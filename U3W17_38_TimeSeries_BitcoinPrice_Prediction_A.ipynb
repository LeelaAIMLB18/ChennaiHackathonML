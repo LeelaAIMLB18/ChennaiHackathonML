{
  "nbformat": 4,
  "nbformat_minor": 0,
  "metadata": {
    "colab": {
      "provenance": [],
      "toc_visible": true,
      "include_colab_link": true
    },
    "kernelspec": {
      "name": "python3",
      "display_name": "Python 3"
    }
  },
  "cells": [
    {
      "cell_type": "markdown",
      "metadata": {
        "id": "view-in-github",
        "colab_type": "text"
      },
      "source": [
        "<a href=\"https://colab.research.google.com/github/LeelaAIMLB18/ChennaiHackathonML/blob/main/U3W17_38_TimeSeries_BitcoinPrice_Prediction_A.ipynb\" target=\"_parent\"><img src=\"https://colab.research.google.com/assets/colab-badge.svg\" alt=\"Open In Colab\"/></a>"
      ]
    },
    {
      "cell_type": "markdown",
      "metadata": {
        "id": "Dq3WVvu7skLd"
      },
      "source": [
        "# Advanced Certification in AIML\n",
        "## A Program by IIIT-H and TalentSprint"
      ]
    },
    {
      "cell_type": "markdown",
      "metadata": {
        "id": "jFUjPQMAn_n3"
      },
      "source": [
        "### Learning Objectives"
      ]
    },
    {
      "cell_type": "markdown",
      "metadata": {
        "id": "0Xq1LLdMoDwa"
      },
      "source": [
        "At the end of the experiment you will be able to :\n",
        "\n",
        "- predict bitcoin price using Neural Network\n"
      ]
    },
    {
      "cell_type": "code",
      "metadata": {
        "id": "0kDzYJ_17eVC",
        "cellView": "form"
      },
      "source": [
        "#@title Experiment Explanation Video\n",
        "from IPython.display import HTML\n",
        "\n",
        "HTML(\"\"\"<video width=\"850\" height=\"480\" controls>\n",
        "  <source src=\"https://cdn.iiith.talentsprint.com/aiml/Experiment_related_data/Walkthrough/Bitcoin_Price_Prediction_Walkthrough.mp4\" type=\"video/mp4\">\n",
        "</video>\n",
        "\"\"\")"
      ],
      "execution_count": null,
      "outputs": []
    },
    {
      "cell_type": "markdown",
      "metadata": {
        "id": "GEO_Hwa77-8H"
      },
      "source": [
        "### Dataset"
      ]
    },
    {
      "cell_type": "markdown",
      "metadata": {
        "id": "DnBNowAkXGVL"
      },
      "source": [
        "### Description\n",
        "\n",
        "In this Dataset, Bitcoin USD values from 1st Jan, 2017 to 15th Nov, 2019 downloaded from yahoo finance having one day resolution. It can be used to check simple time-series forecasting models.\n",
        "\n",
        "This dataset contains 1049 rows and 7 features including Date,\tOpen,\tHigh,\tLow,\tClose,\tAdj Close and\tVolume\n",
        "\n",
        "\n"
      ]
    },
    {
      "cell_type": "markdown",
      "metadata": {
        "id": "ESAXYMuBjeWK"
      },
      "source": [
        "Stock price forecasting is one of the most challenging tasks in financial decision-making because stock prices are inherently noisy and non-stationary and have been observed to have a random-walk characteristic. Accurate stock price predictions can yield significant profits and therefore econometric and statistical approaches including linear/non-linear methods."
      ]
    },
    {
      "cell_type": "markdown",
      "metadata": {
        "id": "L0llVz2z8GLi"
      },
      "source": [
        "### Domain Information"
      ]
    },
    {
      "cell_type": "markdown",
      "metadata": {
        "id": "HG3h-09Pej-U"
      },
      "source": [
        "Time-series forecasting means predicting future values in time. Developing a forecasting model depends on the forecasting horizon. Very short-term forecasting would typically involve predicting the value at the next minute or hour, short-term forecasting has a horizon of days or weeks, long-term forecasting is done for months or a year or two, and we also have very-long term forecasting that could easily have a horizon of up to a few decades.\n",
        "\n",
        "Here, we will build a simple Deep Learning based very-short-term Time-series forecaster, that will predict the stock prices of Bitcoin."
      ]
    },
    {
      "cell_type": "markdown",
      "metadata": {
        "id": "ARcaLObv9Ex6"
      },
      "source": [
        "### Setup Steps"
      ]
    },
    {
      "cell_type": "code",
      "metadata": {
        "id": "ftwK6MDeX5k_"
      },
      "source": [
        "#@title Please enter your registration id to start: { run: \"auto\", display-mode: \"form\" }\n",
        "Id = \"\" #@param {type:\"string\"}\n"
      ],
      "execution_count": null,
      "outputs": []
    },
    {
      "cell_type": "code",
      "metadata": {
        "id": "6joLVseQX-JL"
      },
      "source": [
        "#@title Please enter your password (normally your phone number) to continue: { run: \"auto\", display-mode: \"form\" }\n",
        "password = \"\" #@param {type:\"string\"}\n"
      ],
      "execution_count": null,
      "outputs": []
    },
    {
      "cell_type": "code",
      "metadata": {
        "id": "-ChfY8GTH3SB",
        "cellView": "form"
      },
      "source": [
        "#@title Run this cell to complete the setup for this Notebook\n",
        "from IPython import get_ipython\n",
        "import warnings\n",
        "warnings.filterwarnings(\"ignore\")\n",
        "\n",
        "ipython = get_ipython()\n",
        "\n",
        "notebook= \"U3W17_38_TimeSeries_BitcoinPrice_Prediction_A\" #name of the notebook\n",
        "def setup():\n",
        "    ipython.magic(\"sx wget https://cdn.iiith.talentsprint.com/aiml/Experiment_related_data/bitcoin.csv\")\n",
        "    from IPython.display import HTML, display\n",
        "    display(HTML('<script src=\"https://dashboard.talentsprint.com/aiml/record_ip.html?traineeId={0}&recordId={1}\"></script>'.format(getId(),submission_id)))\n",
        "    print (\"Setup completed successfully\")\n",
        "    return\n",
        "\n",
        "def submit_notebook():\n",
        "    ipython.magic(\"notebook -e \"+ notebook + \".ipynb\")\n",
        "\n",
        "    import requests, json, base64, datetime\n",
        "\n",
        "    url = \"https://dashboard.talentsprint.com/xp/app/save_notebook_attempts\"\n",
        "    if not submission_id:\n",
        "      data = {\"id\" : getId(), \"notebook\" : notebook, \"mobile\" : getPassword()}\n",
        "      r = requests.post(url, data = data)\n",
        "      r = json.loads(r.text)\n",
        "\n",
        "      if r[\"status\"] == \"Success\":\n",
        "          return r[\"record_id\"]\n",
        "      elif \"err\" in r:\n",
        "        print(r[\"err\"])\n",
        "        return None\n",
        "      else:\n",
        "        print (\"Something is wrong, the notebook will not be submitted for grading\")\n",
        "        return None\n",
        "\n",
        "    elif getAnswer() and getComplexity() and getAdditional() and getConcepts() and getWalkthrough() and getComments() and getMentorSupport():\n",
        "      f = open(notebook + \".ipynb\", \"rb\")\n",
        "      file_hash = base64.b64encode(f.read())\n",
        "\n",
        "      data = {\"complexity\" : Complexity, \"additional\" :Additional,\n",
        "              \"concepts\" : Concepts, \"record_id\" : submission_id,\n",
        "              \"answer\" : Answer, \"id\" : Id, \"file_hash\" : file_hash,\n",
        "              \"notebook\" : notebook, \"feedback_walkthrough\":Walkthrough ,\n",
        "              \"feedback_experiments_input\" : Comments,\n",
        "              \"feedback_mentor_support\": Mentor_support}\n",
        "\n",
        "      r = requests.post(url, data = data)\n",
        "      r = json.loads(r.text)\n",
        "      if \"err\" in r:\n",
        "        print(r[\"err\"])\n",
        "        return None\n",
        "      else:\n",
        "        print(\"Your submission is successful.\")\n",
        "        print(\"Ref Id:\", submission_id)\n",
        "        print(\"Date of submission: \", r[\"date\"])\n",
        "        print(\"Time of submission: \", r[\"time\"])\n",
        "        print(\"View your submissions: https://aiml.iiith.talentsprint.com/notebook_submissions\")\n",
        "        #print(\"For any queries/discrepancies, please connect with mentors through the chat icon in LMS dashboard.\")\n",
        "        return submission_id\n",
        "    else: submission_id\n",
        "\n",
        "\n",
        "def getAdditional():\n",
        "  try:\n",
        "    if not Additional:\n",
        "      raise NameError\n",
        "    else:\n",
        "      return Additional\n",
        "  except NameError:\n",
        "    print (\"Please answer Additional Question\")\n",
        "    return None\n",
        "\n",
        "def getComplexity():\n",
        "  try:\n",
        "    if not Complexity:\n",
        "      raise NameError\n",
        "    else:\n",
        "      return Complexity\n",
        "  except NameError:\n",
        "    print (\"Please answer Complexity Question\")\n",
        "    return None\n",
        "\n",
        "def getConcepts():\n",
        "  try:\n",
        "    if not Concepts:\n",
        "      raise NameError\n",
        "    else:\n",
        "      return Concepts\n",
        "  except NameError:\n",
        "    print (\"Please answer Concepts Question\")\n",
        "    return None\n",
        "\n",
        "\n",
        "def getWalkthrough():\n",
        "  try:\n",
        "    if not Walkthrough:\n",
        "      raise NameError\n",
        "    else:\n",
        "      return Walkthrough\n",
        "  except NameError:\n",
        "    print (\"Please answer Walkthrough Question\")\n",
        "    return None\n",
        "\n",
        "def getComments():\n",
        "  try:\n",
        "    if not Comments:\n",
        "      raise NameError\n",
        "    else:\n",
        "      return Comments\n",
        "  except NameError:\n",
        "    print (\"Please answer Comments Question\")\n",
        "    return None\n",
        "\n",
        "\n",
        "def getMentorSupport():\n",
        "  try:\n",
        "    if not Mentor_support:\n",
        "      raise NameError\n",
        "    else:\n",
        "      return Mentor_support\n",
        "  except NameError:\n",
        "    print (\"Please answer Mentor support Question\")\n",
        "    return None\n",
        "\n",
        "def getAnswer():\n",
        "  try:\n",
        "    if not Answer:\n",
        "      raise NameError\n",
        "    else:\n",
        "      return Answer\n",
        "  except NameError:\n",
        "    print (\"Please answer Question\")\n",
        "    return None\n",
        "\n",
        "\n",
        "def getId():\n",
        "  try:\n",
        "    return Id if Id else None\n",
        "  except NameError:\n",
        "    return None\n",
        "\n",
        "def getPassword():\n",
        "  try:\n",
        "    return password if password else None\n",
        "  except NameError:\n",
        "    return None\n",
        "\n",
        "submission_id = None\n",
        "### Setup\n",
        "if getPassword() and getId():\n",
        "  submission_id = submit_notebook()\n",
        "  if submission_id:\n",
        "    setup()\n",
        "else:\n",
        "  print (\"Please complete Id and Password cells before running setup\")\n",
        "\n"
      ],
      "execution_count": null,
      "outputs": []
    },
    {
      "cell_type": "markdown",
      "metadata": {
        "id": "OfleGJ0189Ta"
      },
      "source": [
        "### Importing required packages"
      ]
    },
    {
      "cell_type": "code",
      "metadata": {
        "id": "Az5Xrurv8-iy"
      },
      "source": [
        "import pandas as pd\n",
        "import numpy as np\n",
        "from matplotlib import pyplot as plt\n",
        "from statsmodels.tsa import stattools\n",
        "\n",
        "# Keras imports\n",
        "from keras.layers import Input, Dense, Dropout\n",
        "from keras.models import Model"
      ],
      "execution_count": null,
      "outputs": []
    },
    {
      "cell_type": "markdown",
      "metadata": {
        "id": "zEzSgicD3eMz"
      },
      "source": [
        "### Load the data"
      ]
    },
    {
      "cell_type": "code",
      "metadata": {
        "id": "DintBT1SIRK_"
      },
      "source": [
        "df = pd.read_csv('/content/bitcoin.csv')\n",
        "df.head()"
      ],
      "execution_count": null,
      "outputs": []
    },
    {
      "cell_type": "markdown",
      "metadata": {
        "id": "whSzyIJpfBTo"
      },
      "source": [
        "### Plotting the Time-series"
      ]
    },
    {
      "cell_type": "code",
      "metadata": {
        "id": "IUTHDY9X9mlB"
      },
      "source": [
        "df_close = pd.DataFrame(df['Close'])\n",
        "df_close.index = pd.to_datetime(df['Date'])\n",
        "\n",
        "plt.figure(figsize=(8, 6))\n",
        "plt.plot(df_close, color='g')\n",
        "plt.title('Bitcoin Closing Price')\n",
        "plt.xlabel('Date')\n",
        "plt.ylabel('USD ($)')\n",
        "plt.show()"
      ],
      "execution_count": null,
      "outputs": []
    },
    {
      "cell_type": "markdown",
      "metadata": {
        "id": "XJ8yPLDGi_PA"
      },
      "source": [
        "### Auto Correlation Function\n",
        "In autocorrelation, we take the time-series value at current instant as one variable and one of the values from a time-instant in the past as the other variable, and find the correlation between them. `stattools.acf` (acf for autocorrelation function) is used to plot the autocorrelation with 50 past time-instants (lags).\n",
        "\n",
        "For example the ACF for a time series  is given by:\n",
        "\n",
        "$ Corr = (y_t, y_{t-k})$\n",
        "\n",
        "This value of k is the time gap being considered and is called the lag. A lag 1 autocorrelation (i.e., k = 1 in the above) is the correlation between values that are one time period apart. More generally, a lag k autocorrelation is the correlation between values that are k time periods apart.\n",
        "\n"
      ]
    },
    {
      "cell_type": "code",
      "metadata": {
        "id": "HZgbbHz39wNZ"
      },
      "source": [
        "acf_lags = # YOUR CODE HERE: To create a auto correlation function with 50 lags\n",
        "\n",
        "plt.figure(figsize=(12, 5))\n",
        "\n",
        "# YOUR CODE HERE: To plot the autocorrelation of Bitcoin Closing Price ('Lag' on X-axis, 'Autocorrelation Value' on Y-axis)\n",
        "\n",
        "plt.show()"
      ],
      "execution_count": null,
      "outputs": []
    },
    {
      "cell_type": "markdown",
      "metadata": {
        "id": "LPLt_xLUjlb_"
      },
      "source": [
        "From the above plot we can observe that, after 15 time instants (lags) the correlation value is less than 0.9, correlation is a way to measure the strength of association between any two variables. As the correlation value approaches 1, it indicates high positive association. Correlation near 0 indicates almost no association at all. So, ignore time instants (lags) having a correlation value less than 0.9"
      ]
    },
    {
      "cell_type": "markdown",
      "metadata": {
        "id": "xaMF3cEDfOJI"
      },
      "source": [
        "### Creation of dataset for training\n",
        "\n",
        "Below Function to create the data with 15 lags (past 15 days of data)"
      ]
    },
    {
      "cell_type": "code",
      "metadata": {
        "id": "WvYHQD0X9-ce"
      },
      "source": [
        "def create_lags_data(df, attributes, list_of_prev_t_instants):\n",
        "\n",
        "    \"\"\"\n",
        "    Ensure that the index is of datetime type\n",
        "    Creates features with previous time instant values\n",
        "    \"\"\"\n",
        "\n",
        "    start = len(list_of_prev_t_instants)\n",
        "    end = len(df)\n",
        "    df['datetime'] = df.index\n",
        "    df.reset_index(drop=True)\n",
        "\n",
        "    # Make a copy of original dataframe\n",
        "    df_copy = df[start:end]\n",
        "    df_copy.reset_index(inplace=True, drop=True)\n",
        "\n",
        "    for attribute in attributes:\n",
        "        # Create the new empty dataframe\n",
        "        data = pd.DataFrame()\n",
        "        for prev_t in list_of_prev_t_instants :\n",
        "            # Slicing the Dataframe with 15 lags\n",
        "            new_col = pd.DataFrame(df[attribute].iloc[(start - prev_t) : (end - prev_t)])\n",
        "            new_col.reset_index(drop=True, inplace=True)\n",
        "            # To rename the columns as Close(t-1), Close(t-2) and so on ....\n",
        "            new_col.rename(columns={attribute : '{}_(t-{})'.format(attribute, prev_t)}, inplace=True)\n",
        "            data = pd.concat([data, new_col], sort=False, axis=1)\n",
        "\n",
        "        df_copy = pd.concat([df_copy, data], sort=False, axis=1)\n",
        "\n",
        "    df_copy.set_index(['datetime'], drop=True, inplace=True)\n",
        "    return df_copy"
      ],
      "execution_count": null,
      "outputs": []
    },
    {
      "cell_type": "code",
      "metadata": {
        "id": "t361wGZD-ErG"
      },
      "source": [
        "# Defining the Attributes and t_instances to create the lagged data\n",
        "list_of_attributes = ['Close']\n",
        "list_of_prev_t_instants = np.arange(1,16)\n",
        "list_of_prev_t_instants"
      ],
      "execution_count": null,
      "outputs": []
    },
    {
      "cell_type": "code",
      "metadata": {
        "id": "IAYK9VP5-JI0"
      },
      "source": [
        "# Call the function to create data with 14 lags\n",
        "df_new = create_lags_data(df_close, list_of_attributes, list_of_prev_t_instants)\n",
        "df_new"
      ],
      "execution_count": null,
      "outputs": []
    },
    {
      "cell_type": "markdown",
      "metadata": {
        "id": "FQK-QEa_Jg6L"
      },
      "source": [
        "### Build and compile the model\n",
        "\n",
        "Training a simple Network that has an input layer with 15 nodes (accounting for each of the 15 past regressor inputs)."
      ]
    },
    {
      "cell_type": "code",
      "metadata": {
        "id": "Y05MaMkv-QBG"
      },
      "source": [
        "# YOUR CODE HERE: To define the input layer with 15 nodes\n",
        "\n",
        "# YOUR CODE HERE: To create the first dense layer with 30 neurons and activation as 'linear'\n",
        "\n",
        "dense2 = Dense(30, activation='linear')(dense1)\n",
        "\n",
        "# YOUR CODE HERE: To define the dropout layer with p=0.2\n",
        "\n",
        "output_layer = Dense(1, activation='linear')(dropout_layer)"
      ],
      "execution_count": null,
      "outputs": []
    },
    {
      "cell_type": "code",
      "metadata": {
        "id": "7vpnh7nf-St4"
      },
      "source": [
        "model = Model(inputs=input_layer, outputs=output_layer)\n",
        "\n",
        "# YOUR CODE HERE: To compile the model by passing loss (MSE) and optimizer (Adam) as parameters\n",
        "\n",
        "model.summary()"
      ],
      "execution_count": null,
      "outputs": []
    },
    {
      "cell_type": "markdown",
      "metadata": {
        "id": "rDFClfAuA7yn"
      },
      "source": [
        "### Split the data into train and test\n",
        "\n",
        "Define the features and labels from the data and split data into train and test  in 90-10 split ratio"
      ]
    },
    {
      "cell_type": "code",
      "metadata": {
        "id": "5-n1aI1ezEyq"
      },
      "source": [
        "df_copy = df_new.reset_index(drop=True)\n",
        "\n",
        "from sklearn.model_selection import train_test_split\n",
        "features = df_copy.iloc[:, 1:]\n",
        "labels = df_copy.iloc[:, 0]\n",
        "\n",
        "# YOUR CODE HERE: To split the data into train and test sets\n",
        "\n",
        "X_train.shape, y_train.shape\n",
        "\n",
        "print('The Shape of training inputs, training target:', X_train.shape, y_train.shape)\n",
        "print('The Shape of test inputs, test target:', X_test.shape, y_test.shape)"
      ],
      "execution_count": null,
      "outputs": []
    },
    {
      "cell_type": "markdown",
      "metadata": {
        "id": "rfyU0KIwJzTF"
      },
      "source": [
        "### Scaling the data\n",
        "\n",
        "Normalize the data before feeding it to the neural network."
      ]
    },
    {
      "cell_type": "code",
      "metadata": {
        "id": "auV8zmDh-as4"
      },
      "source": [
        "from sklearn.preprocessing import MinMaxScaler\n",
        "\n",
        "Target_scaler = MinMaxScaler()\n",
        "Feature_scaler = MinMaxScaler()\n",
        "\n",
        "# YOUR CODE HERE: To fit and transform the train and test data using feature scalar\n",
        "\n",
        "y_train_scaled = Target_scaler.fit_transform(np.array(y_train).reshape(-1,1))\n",
        "y_test_scaled = Target_scaler.fit_transform(np.array(y_test).reshape(-1,1))"
      ],
      "execution_count": null,
      "outputs": []
    },
    {
      "cell_type": "markdown",
      "metadata": {
        "id": "PjIsrap6KOL4"
      },
      "source": [
        "### Training and Validation"
      ]
    },
    {
      "cell_type": "code",
      "metadata": {
        "id": "8gAREqY3-hDh"
      },
      "source": [
        "# YOUR CODE HERE: To train and validate the model"
      ],
      "execution_count": null,
      "outputs": []
    },
    {
      "cell_type": "markdown",
      "metadata": {
        "id": "8aHKzHr0KTop"
      },
      "source": [
        "### Making predictions on the test set"
      ]
    },
    {
      "cell_type": "code",
      "metadata": {
        "id": "KGcLzpwN-mot"
      },
      "source": [
        "# YOUR CODE HERE: To get the predictions on the scaled test data"
      ],
      "execution_count": null,
      "outputs": []
    },
    {
      "cell_type": "code",
      "metadata": {
        "id": "3lLTisjDUxIu"
      },
      "source": [
        "# YOUR CODE HERE: To rescale the predicted data and actual data to plot"
      ],
      "execution_count": null,
      "outputs": []
    },
    {
      "cell_type": "markdown",
      "metadata": {
        "id": "B5JoozZXKYBQ"
      },
      "source": [
        "### Plotting the predictions"
      ]
    },
    {
      "cell_type": "code",
      "metadata": {
        "id": "8JdttE-s-5NM"
      },
      "source": [
        "plt.figure(figsize=(11, 6))\n",
        "plt.plot(y_test_rescaled, linestyle='solid', color='r')\n",
        "plt.plot(y_pred_rescaled, linestyle='dashed', color='b')\n",
        "\n",
        "plt.legend(['Actual','Predicted'])\n",
        "plt.title('Bitcoin Stock Closing Prices')\n",
        "plt.ylabel('USD ($)')\n",
        "plt.xlabel('Day counts of the test data')\n",
        "\n",
        "plt.show()"
      ],
      "execution_count": null,
      "outputs": []
    },
    {
      "cell_type": "markdown",
      "metadata": {
        "id": "EaISHzUj9lw_"
      },
      "source": [
        "# Please answer the questions below to complete the experiment:\n",
        "\n",
        "\n"
      ]
    },
    {
      "cell_type": "code",
      "metadata": {
        "id": "RAL5agrq7olF"
      },
      "source": [
        "#@title State True or False: A time series autocorrelation plot refers to the degree of correlation between the values of the same variables across different observations in the data { run: \"auto\", form-width: \"500px\", display-mode: \"form\" }\n",
        "Answer = \"\"#@param [\"\",\"TRUE\",\"FALSE\"]\n"
      ],
      "execution_count": null,
      "outputs": []
    },
    {
      "cell_type": "code",
      "metadata": {
        "id": "NMzKSbLIgFzQ"
      },
      "source": [
        "#@title How was the experiment? { run: \"auto\", form-width: \"500px\", display-mode: \"form\" }\n",
        "Complexity = \"\" #@param [\"\",\"Too Simple, I am wasting time\", \"Good, But Not Challenging for me\", \"Good and Challenging for me\", \"Was Tough, but I did it\", \"Too Difficult for me\"]\n"
      ],
      "execution_count": null,
      "outputs": []
    },
    {
      "cell_type": "code",
      "metadata": {
        "id": "DjcH1VWSFI2l"
      },
      "source": [
        "#@title If it was too easy, what more would you have liked to be added? If it was very difficult, what would you have liked to have been removed? { run: \"auto\", display-mode: \"form\" }\n",
        "Additional = \"\" #@param {type:\"string\"}\n"
      ],
      "execution_count": null,
      "outputs": []
    },
    {
      "cell_type": "code",
      "metadata": {
        "id": "4VBk_4VTAxCM"
      },
      "source": [
        "#@title Can you identify the concepts from the lecture which this experiment covered? { run: \"auto\", vertical-output: true, display-mode: \"form\" }\n",
        "Concepts = \"\" #@param [\"\",\"Yes\", \"No\"]\n"
      ],
      "execution_count": null,
      "outputs": []
    },
    {
      "cell_type": "code",
      "metadata": {
        "id": "r35isHfTVGKc"
      },
      "source": [
        "#@title  Experiment walkthrough video? { run: \"auto\", vertical-output: true, display-mode: \"form\" }\n",
        "Walkthrough = \"\" #@param [\"\",\"Very Useful\", \"Somewhat Useful\", \"Not Useful\", \"Didn't use\"]\n"
      ],
      "execution_count": null,
      "outputs": []
    },
    {
      "cell_type": "code",
      "metadata": {
        "id": "XH91cL1JWH7m"
      },
      "source": [
        "#@title  Text and image description/explanation and code comments within the experiment: { run: \"auto\", vertical-output: true, display-mode: \"form\" }\n",
        "Comments = \"\" #@param [\"\",\"Very Useful\", \"Somewhat Useful\", \"Not Useful\", \"Didn't use\"]\n"
      ],
      "execution_count": null,
      "outputs": []
    },
    {
      "cell_type": "code",
      "metadata": {
        "id": "z8xLqj7VWIKW"
      },
      "source": [
        "#@title Mentor Support: { run: \"auto\", vertical-output: true, display-mode: \"form\" }\n",
        "Mentor_support = \"\" #@param [\"\",\"Very Useful\", \"Somewhat Useful\", \"Not Useful\", \"Didn't use\"]\n"
      ],
      "execution_count": null,
      "outputs": []
    },
    {
      "cell_type": "code",
      "metadata": {
        "cellView": "form",
        "id": "FzAZHt1zw-Y-"
      },
      "source": [
        "#@title Run this cell to submit your notebook for grading { vertical-output: true }\n",
        "try:\n",
        "  if submission_id:\n",
        "      return_id = submit_notebook()\n",
        "      if return_id : submission_id = return_id\n",
        "  else:\n",
        "      print(\"Please complete the setup first.\")\n",
        "except NameError:\n",
        "  print (\"Please complete the setup first.\")"
      ],
      "execution_count": null,
      "outputs": []
    }
  ]
}